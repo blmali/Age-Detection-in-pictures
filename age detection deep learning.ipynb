{
 "cells": [
  {
   "cell_type": "code",
   "execution_count": 2,
   "metadata": {},
   "outputs": [],
   "source": [
    "import os"
   ]
  },
  {
   "cell_type": "code",
   "execution_count": 3,
   "metadata": {},
   "outputs": [],
   "source": [
    "import pandas as pd\n",
    "import random\n",
    "import cv2"
   ]
  },
  {
   "cell_type": "code",
   "execution_count": 4,
   "metadata": {},
   "outputs": [],
   "source": [
    "\n",
    "\n"
   ]
  },
  {
   "cell_type": "code",
   "execution_count": 5,
   "metadata": {},
   "outputs": [],
   "source": [
    "test=pd.read_csv('test.csv',delimiter=\",\",index_col=None)"
   ]
  },
  {
   "cell_type": "code",
   "execution_count": 6,
   "metadata": {},
   "outputs": [
    {
     "data": {
      "text/html": [
       "<div>\n",
       "<style scoped>\n",
       "    .dataframe tbody tr th:only-of-type {\n",
       "        vertical-align: middle;\n",
       "    }\n",
       "\n",
       "    .dataframe tbody tr th {\n",
       "        vertical-align: top;\n",
       "    }\n",
       "\n",
       "    .dataframe thead th {\n",
       "        text-align: right;\n",
       "    }\n",
       "</style>\n",
       "<table border=\"1\" class=\"dataframe\">\n",
       "  <thead>\n",
       "    <tr style=\"text-align: right;\">\n",
       "      <th></th>\n",
       "      <th>ID</th>\n",
       "      <th>Class</th>\n",
       "    </tr>\n",
       "  </thead>\n",
       "  <tbody>\n",
       "    <tr>\n",
       "      <th>0</th>\n",
       "      <td>377.jpg</td>\n",
       "      <td>MIDDLE</td>\n",
       "    </tr>\n",
       "    <tr>\n",
       "      <th>1</th>\n",
       "      <td>17814.jpg</td>\n",
       "      <td>YOUNG</td>\n",
       "    </tr>\n",
       "  </tbody>\n",
       "</table>\n",
       "</div>"
      ],
      "text/plain": [
       "          ID   Class\n",
       "0    377.jpg  MIDDLE\n",
       "1  17814.jpg   YOUNG"
      ]
     },
     "execution_count": 6,
     "metadata": {},
     "output_type": "execute_result"
    }
   ],
   "source": [
    "train.head(2)"
   ]
  },
  {
   "cell_type": "code",
   "execution_count": 7,
   "metadata": {},
   "outputs": [
    {
     "data": {
      "text/html": [
       "<div>\n",
       "<style scoped>\n",
       "    .dataframe tbody tr th:only-of-type {\n",
       "        vertical-align: middle;\n",
       "    }\n",
       "\n",
       "    .dataframe tbody tr th {\n",
       "        vertical-align: top;\n",
       "    }\n",
       "\n",
       "    .dataframe thead th {\n",
       "        text-align: right;\n",
       "    }\n",
       "</style>\n",
       "<table border=\"1\" class=\"dataframe\">\n",
       "  <thead>\n",
       "    <tr style=\"text-align: right;\">\n",
       "      <th></th>\n",
       "      <th>ID</th>\n",
       "    </tr>\n",
       "  </thead>\n",
       "  <tbody>\n",
       "    <tr>\n",
       "      <th>0</th>\n",
       "      <td>25321.jpg</td>\n",
       "    </tr>\n",
       "    <tr>\n",
       "      <th>1</th>\n",
       "      <td>989.jpg</td>\n",
       "    </tr>\n",
       "  </tbody>\n",
       "</table>\n",
       "</div>"
      ],
      "text/plain": [
       "          ID\n",
       "0  25321.jpg\n",
       "1    989.jpg"
      ]
     },
     "execution_count": 7,
     "metadata": {},
     "output_type": "execute_result"
    }
   ],
   "source": [
    "test.head(2)"
   ]
  },
  {
   "cell_type": "code",
   "execution_count": 12,
   "metadata": {},
   "outputs": [
    {
     "name": "stdout",
     "output_type": "stream",
     "text": [
      "17629\n",
      "Age YOUNG\n"
     ]
    },
    {
     "data": {
      "text/plain": [
       "-1"
      ]
     },
     "execution_count": 12,
     "metadata": {},
     "output_type": "execute_result"
    }
   ],
   "source": [
    "import matplotlib.pyplot as plt\n",
    "i=random.choice(train.index)\n",
    "print(i)\n",
    "img_name=train.ID[i]\n",
    "img=cv2.imread(os.path.join('Train',img_name))\n",
    "print(\"Age\",train.Class[i])\n",
    "cv2.imshow('preview',img)\n",
    "cv2.waitKey()"
   ]
  },
  {
   "cell_type": "code",
   "execution_count": 14,
   "metadata": {},
   "outputs": [],
   "source": [
    "import numpy as np\n",
    "temp = []\n",
    "for img_name in train.ID:\n",
    "    img_path = os.path.join('Train', img_name)\n",
    "    img = cv2.imread(img_path)\n",
    "    \n",
    "    #Gausian blur - Applies a Gaussian Noise kernel\n",
    "    kernel_size = 7\n",
    "    img = cv2.GaussianBlur(img, (kernel_size, kernel_size), 0)\n",
    "    img = cv2.resize(img, (32, 32), cv2.INTER_LINEAR)\n",
    "    img = img.astype('float32') \n",
    "    temp.append(img)\n",
    "\n",
    "train_x = np.stack(temp)"
   ]
  },
  {
   "cell_type": "code",
   "execution_count": 15,
   "metadata": {},
   "outputs": [],
   "source": [
    "temp = []\n",
    "for img_name in test.ID:\n",
    "    img_path = os.path.join('Test', img_name)\n",
    "    img = cv2.imread(img_path)\n",
    "    #Gausian blur - Applies a Gaussian Noise kernel\n",
    "    kernel_size = 7\n",
    "    img = cv2.GaussianBlur(img, (kernel_size, kernel_size), 0)\n",
    "    img = cv2.resize(img, (32, 32), cv2.INTER_LINEAR)\n",
    "    temp.append(img.astype('float32'))\n",
    "\n",
    "test_x = np.stack(temp)"
   ]
  },
  {
   "cell_type": "raw",
   "metadata": {},
   "source": [
    "train_x = train_x / 255\n",
    "test_x = test_x / 255"
   ]
  },
  {
   "cell_type": "code",
   "execution_count": 16,
   "metadata": {},
   "outputs": [
    {
     "name": "stderr",
     "output_type": "stream",
     "text": [
      "C:\\Users\\Dell\\Anaconda3\\lib\\site-packages\\h5py\\__init__.py:36: FutureWarning: Conversion of the second argument of issubdtype from `float` to `np.floating` is deprecated. In future, it will be treated as `np.float64 == np.dtype(float).type`.\n",
      "  from ._conv import register_converters as _register_converters\n",
      "Using TensorFlow backend.\n"
     ]
    }
   ],
   "source": [
    "import keras\n",
    "from sklearn.preprocessing import LabelEncoder\n",
    "## Convert target variable to categorical variable\n",
    "lb = LabelEncoder()\n",
    "train_y = lb.fit_transform(train.Class)\n",
    "train_y = keras.utils.np_utils.to_categorical(train_y)"
   ]
  },
  {
   "cell_type": "code",
   "execution_count": 17,
   "metadata": {},
   "outputs": [],
   "source": [
    "epochs = 40\n",
    "batch_size = 64\n",
    "import numpy\n",
    "from keras.models import Sequential\n",
    "from keras.layers import Conv2D, MaxPooling2D\n",
    "from keras.layers import Activation, Dropout, Flatten, Dense\n",
    "from keras.utils.np_utils import to_categorical"
   ]
  },
  {
   "cell_type": "code",
   "execution_count": 18,
   "metadata": {},
   "outputs": [
    {
     "name": "stderr",
     "output_type": "stream",
     "text": [
      "C:\\Users\\Dell\\Anaconda3\\lib\\site-packages\\ipykernel_launcher.py:3: UserWarning: Update your `Conv2D` call to the Keras 2 API: `Conv2D(32, (5, 5), activation=\"relu\", input_shape=(32, 32, 3...)`\n",
      "  This is separate from the ipykernel package so we can avoid doing imports until\n",
      "C:\\Users\\Dell\\Anaconda3\\lib\\site-packages\\ipykernel_launcher.py:6: UserWarning: Update your `Conv2D` call to the Keras 2 API: `Conv2D(32, (3, 3), activation=\"relu\")`\n",
      "  \n",
      "C:\\Users\\Dell\\Anaconda3\\lib\\site-packages\\ipykernel_launcher.py:10: UserWarning: Update your `Dense` call to the Keras 2 API: `Dense(500, activation=\"relu\", kernel_initializer=\"uniform\")`\n",
      "  # Remove the CWD from sys.path while we load stuff.\n"
     ]
    },
    {
     "name": "stdout",
     "output_type": "stream",
     "text": [
      "_________________________________________________________________\n",
      "Layer (type)                 Output Shape              Param #   \n",
      "=================================================================\n",
      "conv2d_1 (Conv2D)            (None, 28, 28, 32)        2432      \n",
      "_________________________________________________________________\n",
      "max_pooling2d_1 (MaxPooling2 (None, 14, 14, 32)        0         \n",
      "_________________________________________________________________\n",
      "conv2d_2 (Conv2D)            (None, 12, 12, 32)        9248      \n",
      "_________________________________________________________________\n",
      "max_pooling2d_2 (MaxPooling2 (None, 6, 6, 32)          0         \n",
      "_________________________________________________________________\n",
      "flatten_1 (Flatten)          (None, 1152)              0         \n",
      "_________________________________________________________________\n",
      "dense_1 (Dense)              (None, 500)               576500    \n",
      "_________________________________________________________________\n",
      "dropout_1 (Dropout)          (None, 500)               0         \n",
      "_________________________________________________________________\n",
      "dense_2 (Dense)              (None, 100)               50100     \n",
      "_________________________________________________________________\n",
      "dropout_2 (Dropout)          (None, 100)               0         \n",
      "_________________________________________________________________\n",
      "dense_3 (Dense)              (None, 20)                2020      \n",
      "_________________________________________________________________\n",
      "dropout_3 (Dropout)          (None, 20)                0         \n",
      "_________________________________________________________________\n",
      "dense_4 (Dense)              (None, 3)                 63        \n",
      "=================================================================\n",
      "Total params: 640,363\n",
      "Trainable params: 640,363\n",
      "Non-trainable params: 0\n",
      "_________________________________________________________________\n"
     ]
    },
    {
     "name": "stderr",
     "output_type": "stream",
     "text": [
      "C:\\Users\\Dell\\Anaconda3\\lib\\site-packages\\ipykernel_launcher.py:13: UserWarning: Update your `Dense` call to the Keras 2 API: `Dense(100, activation=\"relu\", kernel_initializer=\"uniform\")`\n",
      "  del sys.path[0]\n",
      "C:\\Users\\Dell\\Anaconda3\\lib\\site-packages\\ipykernel_launcher.py:16: UserWarning: Update your `Dense` call to the Keras 2 API: `Dense(20, activation=\"relu\", kernel_initializer=\"uniform\")`\n",
      "  app.launch_new_instance()\n"
     ]
    }
   ],
   "source": [
    "cnn_model5 = Sequential()\n",
    "\n",
    "cnn_model5.add(Conv2D(32, 5, 5, activation='relu', input_shape=(32, 32, 3)))\n",
    "cnn_model5.add(MaxPooling2D(pool_size=(2,2)))\n",
    "\n",
    "cnn_model5.add(Conv2D(32, 3, 3, activation='relu'))\n",
    "cnn_model5.add(MaxPooling2D(pool_size=(2,2)))\n",
    "cnn_model5.add(Flatten())\n",
    "\n",
    "cnn_model5.add(Dense(500, init='uniform', activation='relu'))\n",
    "cnn_model5.add(Dropout(0.4))\n",
    "\n",
    "cnn_model5.add(Dense(100, init='uniform', activation='relu'))\n",
    "cnn_model5.add(Dropout(0.4))\n",
    "\n",
    "cnn_model5.add(Dense(20, init='uniform', activation='relu'))\n",
    "cnn_model5.add(Dropout(0.4))\n",
    "\n",
    "cnn_model5.add(Dense(3, activation='softmax'))\n",
    "\n",
    "# Summary\n",
    "cnn_model5.summary()"
   ]
  },
  {
   "cell_type": "code",
   "execution_count": 19,
   "metadata": {},
   "outputs": [
    {
     "name": "stdout",
     "output_type": "stream",
     "text": [
      "Train on 15924 samples, validate on 3982 samples\n",
      "Epoch 1/48\n",
      "15924/15924 [==============================] - 37s 2ms/step - loss: 0.9897 - acc: 0.5462 - val_loss: 0.8803 - val_acc: 0.6020\n",
      "Epoch 2/48\n",
      "15924/15924 [==============================] - 41s 3ms/step - loss: 0.8868 - acc: 0.5939 - val_loss: 0.8321 - val_acc: 0.6246\n",
      "Epoch 3/48\n",
      "15924/15924 [==============================] - 36s 2ms/step - loss: 0.8609 - acc: 0.6063 - val_loss: 0.8166 - val_acc: 0.6313\n",
      "Epoch 4/48\n",
      "15924/15924 [==============================] - 35s 2ms/step - loss: 0.8416 - acc: 0.6169 - val_loss: 0.8015 - val_acc: 0.6401\n",
      "Epoch 5/48\n",
      "15924/15924 [==============================] - 35s 2ms/step - loss: 0.8300 - acc: 0.6305 - val_loss: 0.7756 - val_acc: 0.6605\n",
      "Epoch 6/48\n",
      "15924/15924 [==============================] - 34s 2ms/step - loss: 0.8043 - acc: 0.6442 - val_loss: 0.7693 - val_acc: 0.6783\n",
      "Epoch 7/48\n",
      "15924/15924 [==============================] - 34s 2ms/step - loss: 0.7871 - acc: 0.6516 - val_loss: 0.8043 - val_acc: 0.6492\n",
      "Epoch 8/48\n",
      "15924/15924 [==============================] - 32s 2ms/step - loss: 0.7691 - acc: 0.6601 - val_loss: 0.7718 - val_acc: 0.6570\n",
      "Epoch 9/48\n",
      "15924/15924 [==============================] - 32s 2ms/step - loss: 0.7582 - acc: 0.6673 - val_loss: 0.7656 - val_acc: 0.6683\n",
      "Epoch 10/48\n",
      "15924/15924 [==============================] - 32s 2ms/step - loss: 0.7572 - acc: 0.6658 - val_loss: 0.7790 - val_acc: 0.6577\n",
      "Epoch 11/48\n",
      "15924/15924 [==============================] - 37s 2ms/step - loss: 0.7392 - acc: 0.6764 - val_loss: 0.7249 - val_acc: 0.6861\n",
      "Epoch 12/48\n",
      "15924/15924 [==============================] - 32s 2ms/step - loss: 0.7201 - acc: 0.6870 - val_loss: 0.7442 - val_acc: 0.6856\n",
      "Epoch 13/48\n",
      "15924/15924 [==============================] - 34s 2ms/step - loss: 0.7185 - acc: 0.6841 - val_loss: 0.7240 - val_acc: 0.6996\n",
      "Epoch 14/48\n",
      "15924/15924 [==============================] - 35s 2ms/step - loss: 0.6877 - acc: 0.6941 - val_loss: 0.7330 - val_acc: 0.6848\n",
      "Epoch 15/48\n",
      "15924/15924 [==============================] - 35s 2ms/step - loss: 0.6730 - acc: 0.7026 - val_loss: 0.6977 - val_acc: 0.7017\n",
      "Epoch 16/48\n",
      "15924/15924 [==============================] - 35s 2ms/step - loss: 0.6623 - acc: 0.7103 - val_loss: 0.6988 - val_acc: 0.7062\n",
      "Epoch 17/48\n",
      "15924/15924 [==============================] - 35s 2ms/step - loss: 0.6460 - acc: 0.7189 - val_loss: 0.7221 - val_acc: 0.7049\n",
      "Epoch 18/48\n",
      "15924/15924 [==============================] - 35s 2ms/step - loss: 0.6299 - acc: 0.7290 - val_loss: 0.7094 - val_acc: 0.7082\n",
      "Epoch 19/48\n",
      "15924/15924 [==============================] - 36s 2ms/step - loss: 0.6160 - acc: 0.7355 - val_loss: 0.7266 - val_acc: 0.7037\n",
      "Epoch 20/48\n",
      "15924/15924 [==============================] - 35s 2ms/step - loss: 0.5986 - acc: 0.7442 - val_loss: 0.7170 - val_acc: 0.7057\n",
      "Epoch 21/48\n",
      "15924/15924 [==============================] - 35s 2ms/step - loss: 0.5789 - acc: 0.7594 - val_loss: 0.7206 - val_acc: 0.7009\n",
      "Epoch 22/48\n",
      "15924/15924 [==============================] - 35s 2ms/step - loss: 0.5709 - acc: 0.7584 - val_loss: 0.6983 - val_acc: 0.7127\n",
      "Epoch 23/48\n",
      "15924/15924 [==============================] - 37s 2ms/step - loss: 0.5570 - acc: 0.7659 - val_loss: 0.7376 - val_acc: 0.7082\n",
      "Epoch 24/48\n",
      "15924/15924 [==============================] - 34s 2ms/step - loss: 0.5383 - acc: 0.7712 - val_loss: 0.7551 - val_acc: 0.7162\n",
      "Epoch 25/48\n",
      "15924/15924 [==============================] - 32s 2ms/step - loss: 0.5078 - acc: 0.7849 - val_loss: 0.7892 - val_acc: 0.7125\n",
      "Epoch 26/48\n",
      "15924/15924 [==============================] - 32s 2ms/step - loss: 0.5116 - acc: 0.7867 - val_loss: 0.7423 - val_acc: 0.7142\n",
      "Epoch 27/48\n",
      "15924/15924 [==============================] - 31s 2ms/step - loss: 0.4966 - acc: 0.7947 - val_loss: 0.7844 - val_acc: 0.6936\n",
      "Epoch 28/48\n",
      "15924/15924 [==============================] - 31s 2ms/step - loss: 0.4839 - acc: 0.8033 - val_loss: 0.7967 - val_acc: 0.7072\n",
      "Epoch 29/48\n",
      "15924/15924 [==============================] - 31s 2ms/step - loss: 0.4650 - acc: 0.8080 - val_loss: 0.7669 - val_acc: 0.7228\n",
      "Epoch 30/48\n",
      "15924/15924 [==============================] - 31s 2ms/step - loss: 0.4404 - acc: 0.8200 - val_loss: 0.8392 - val_acc: 0.7002\n",
      "Epoch 31/48\n",
      "15924/15924 [==============================] - 31s 2ms/step - loss: 0.4387 - acc: 0.8233 - val_loss: 0.8742 - val_acc: 0.6931\n",
      "Epoch 32/48\n",
      "15924/15924 [==============================] - 32s 2ms/step - loss: 0.4231 - acc: 0.8311 - val_loss: 0.8389 - val_acc: 0.7155\n",
      "Epoch 33/48\n",
      "15924/15924 [==============================] - 31s 2ms/step - loss: 0.4047 - acc: 0.8343 - val_loss: 0.8512 - val_acc: 0.7142\n",
      "Epoch 34/48\n",
      "15924/15924 [==============================] - 32s 2ms/step - loss: 0.4051 - acc: 0.8357 - val_loss: 0.8385 - val_acc: 0.7142\n",
      "Epoch 35/48\n",
      "15924/15924 [==============================] - 32s 2ms/step - loss: 0.3853 - acc: 0.8489 - val_loss: 0.8835 - val_acc: 0.7248\n",
      "Epoch 36/48\n",
      "15924/15924 [==============================] - 31s 2ms/step - loss: 0.3767 - acc: 0.8524 - val_loss: 0.8663 - val_acc: 0.7150\n",
      "Epoch 37/48\n",
      "15924/15924 [==============================] - 31s 2ms/step - loss: 0.3654 - acc: 0.8589 - val_loss: 0.8696 - val_acc: 0.7187\n",
      "Epoch 38/48\n",
      "15924/15924 [==============================] - 31s 2ms/step - loss: 0.3388 - acc: 0.8682 - val_loss: 0.9433 - val_acc: 0.7240\n",
      "Epoch 39/48\n",
      "15924/15924 [==============================] - 33s 2ms/step - loss: 0.3413 - acc: 0.8648 - val_loss: 0.9791 - val_acc: 0.7099\n",
      "Epoch 40/48\n",
      "15924/15924 [==============================] - 33s 2ms/step - loss: 0.3262 - acc: 0.8708 - val_loss: 1.0117 - val_acc: 0.7220\n",
      "Epoch 41/48\n",
      "15924/15924 [==============================] - 33s 2ms/step - loss: 0.3277 - acc: 0.8735 - val_loss: 0.9659 - val_acc: 0.7197\n",
      "Epoch 42/48\n",
      "15924/15924 [==============================] - 33s 2ms/step - loss: 0.3115 - acc: 0.8808 - val_loss: 1.0575 - val_acc: 0.7180\n",
      "Epoch 43/48\n",
      "15924/15924 [==============================] - 33s 2ms/step - loss: 0.3074 - acc: 0.8833 - val_loss: 0.9331 - val_acc: 0.7197\n",
      "Epoch 44/48\n",
      "15924/15924 [==============================] - 33s 2ms/step - loss: 0.2975 - acc: 0.8858 - val_loss: 1.0232 - val_acc: 0.7177\n",
      "Epoch 45/48\n",
      "15924/15924 [==============================] - 33s 2ms/step - loss: 0.2861 - acc: 0.8912 - val_loss: 1.0021 - val_acc: 0.7197\n",
      "Epoch 46/48\n",
      "15924/15924 [==============================] - 33s 2ms/step - loss: 0.3068 - acc: 0.8821 - val_loss: 1.0374 - val_acc: 0.7210\n",
      "Epoch 47/48\n",
      "15924/15924 [==============================] - 37s 2ms/step - loss: 0.2736 - acc: 0.8942 - val_loss: 1.0293 - val_acc: 0.7280\n",
      "Epoch 48/48\n",
      "15924/15924 [==============================] - 33s 2ms/step - loss: 0.2548 - acc: 0.9033 - val_loss: 1.1225 - val_acc: 0.7245\n"
     ]
    },
    {
     "data": {
      "text/plain": [
       "<keras.callbacks.History at 0x1f47fc1c940>"
      ]
     },
     "execution_count": 19,
     "metadata": {},
     "output_type": "execute_result"
    }
   ],
   "source": [
    "keras.optimizers.Adam(lr=0.03, beta_1=0.9, beta_2=0.999, epsilon=1e-08, decay=0.0)\n",
    "#Compile model\n",
    "cnn_model5.compile(loss = \"categorical_crossentropy\",\n",
    "              #optimizer = 'adadelta',\n",
    "              #optimizer = 'sgd',\n",
    "              optimizer = 'adam',\n",
    "              metrics = ['accuracy'])\n",
    "# Training\n",
    "cnn_model5.fit(train_x, train_y, batch_size=batch_size, epochs=48,verbose=1, validation_split=0.2) #batch_size=batch_size,"
   ]
  },
  {
   "cell_type": "code",
   "execution_count": 20,
   "metadata": {},
   "outputs": [
    {
     "name": "stderr",
     "output_type": "stream",
     "text": [
      "C:\\Users\\Dell\\Anaconda3\\lib\\site-packages\\sklearn\\preprocessing\\label.py:151: DeprecationWarning: The truth value of an empty array is ambiguous. Returning False, but in future this will result in an error. Use `array.size > 0` to check that an array is not empty.\n",
      "  if diff:\n"
     ]
    }
   ],
   "source": [
    "pred = cnn_model5.predict_classes(test_x)\n",
    "pred = lb.inverse_transform(pred)\n",
    "\n",
    "test['Class'] = pred\n",
    "test.to_csv('sub16.csv', index=False)"
   ]
  },
  {
   "cell_type": "markdown",
   "metadata": {},
   "source": [
    "# - complete code ->1\n"
   ]
  },
  {
   "cell_type": "raw",
   "metadata": {},
   "source": [
    "\n",
    "hello this is"
   ]
  },
  {
   "cell_type": "code",
   "execution_count": null,
   "metadata": {},
   "outputs": [],
   "source": []
  }
 ],
 "metadata": {
  "kernelspec": {
   "display_name": "Python 3",
   "language": "python",
   "name": "python3"
  },
  "language_info": {
   "codemirror_mode": {
    "name": "ipython",
    "version": 3
   },
   "file_extension": ".py",
   "mimetype": "text/x-python",
   "name": "python",
   "nbconvert_exporter": "python",
   "pygments_lexer": "ipython3",
   "version": "3.6.5"
  }
 },
 "nbformat": 4,
 "nbformat_minor": 2
}
